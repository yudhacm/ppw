{
  "nbformat": 4,
  "nbformat_minor": 0,
  "metadata": {
    "colab": {
      "provenance": []
    },
    "kernelspec": {
      "name": "python3",
      "display_name": "Python 3"
    },
    "language_info": {
      "name": "python"
    }
  },
  "cells": [
    {
      "cell_type": "markdown",
      "source": [
        "# Crawling\n",
        "\n",
        "Crawling adalah proses otomatis dalam mengumpulkan data atau informasi dari internet menggunakan program yang disebut web crawler (atau bot). Web crawler bekerja dengan cara mengunjungi halaman-halaman web, membaca konten, lalu menyimpannya agar dapat diproses lebih lanjut.\n",
        "\n",
        "Secara umum, web crawling adalah tahapan awal data mining di web."
      ],
      "metadata": {
        "id": "EgyLO71ARxL5"
      }
    },
    {
      "cell_type": "markdown",
      "source": [
        "## Instalasi Library\n"
      ],
      "metadata": {
        "id": "8IxkDtFVRw67"
      }
    },
    {
      "cell_type": "code",
      "execution_count": 9,
      "metadata": {
        "colab": {
          "base_uri": "https://localhost:8080/"
        },
        "id": "wW5-smzFF7BS",
        "outputId": "f46950cd-69c7-4168-ef33-01f6f3085900"
      },
      "outputs": [
        {
          "output_type": "stream",
          "name": "stdout",
          "text": [
            "Requirement already satisfied: sprynger in /usr/local/lib/python3.12/dist-packages (0.4.1)\n",
            "Requirement already satisfied: lxml in /usr/local/lib/python3.12/dist-packages (from sprynger) (5.4.0)\n",
            "Requirement already satisfied: requests in /usr/local/lib/python3.12/dist-packages (from sprynger) (2.32.4)\n",
            "Requirement already satisfied: urllib3 in /usr/local/lib/python3.12/dist-packages (from sprynger) (2.5.0)\n",
            "Requirement already satisfied: platformdirs in /usr/local/lib/python3.12/dist-packages (from sprynger) (4.3.8)\n",
            "Requirement already satisfied: charset_normalizer<4,>=2 in /usr/local/lib/python3.12/dist-packages (from requests->sprynger) (3.4.3)\n",
            "Requirement already satisfied: idna<4,>=2.5 in /usr/local/lib/python3.12/dist-packages (from requests->sprynger) (3.10)\n",
            "Requirement already satisfied: certifi>=2017.4.17 in /usr/local/lib/python3.12/dist-packages (from requests->sprynger) (2025.8.3)\n",
            "Requirement already satisfied: requests in /usr/local/lib/python3.12/dist-packages (2.32.4)\n",
            "Requirement already satisfied: pandas in /usr/local/lib/python3.12/dist-packages (2.2.2)\n",
            "Requirement already satisfied: charset_normalizer<4,>=2 in /usr/local/lib/python3.12/dist-packages (from requests) (3.4.3)\n",
            "Requirement already satisfied: idna<4,>=2.5 in /usr/local/lib/python3.12/dist-packages (from requests) (3.10)\n",
            "Requirement already satisfied: urllib3<3,>=1.21.1 in /usr/local/lib/python3.12/dist-packages (from requests) (2.5.0)\n",
            "Requirement already satisfied: certifi>=2017.4.17 in /usr/local/lib/python3.12/dist-packages (from requests) (2025.8.3)\n",
            "Requirement already satisfied: numpy>=1.26.0 in /usr/local/lib/python3.12/dist-packages (from pandas) (2.0.2)\n",
            "Requirement already satisfied: python-dateutil>=2.8.2 in /usr/local/lib/python3.12/dist-packages (from pandas) (2.9.0.post0)\n",
            "Requirement already satisfied: pytz>=2020.1 in /usr/local/lib/python3.12/dist-packages (from pandas) (2025.2)\n",
            "Requirement already satisfied: tzdata>=2022.7 in /usr/local/lib/python3.12/dist-packages (from pandas) (2025.2)\n",
            "Requirement already satisfied: six>=1.5 in /usr/local/lib/python3.12/dist-packages (from python-dateutil>=2.8.2->pandas) (1.17.0)\n"
          ]
        }
      ],
      "source": [
        "!pip install sprynger\n",
        "!pip install requests pandas"
      ]
    },
    {
      "cell_type": "markdown",
      "source": [
        "\n",
        "* sprynger → library Python tidak wajib sebenarnya, karena kita langsung akses API pakai requests. Jadi baris ini bisa dilewati kalau tidak dipakai.\n",
        "\n",
        "* requests → untuk mengirim request ke API Springer Nature.\n",
        "\n",
        "* pandas → untuk mengolah hasil (tabel) dan simpan ke CSV."
      ],
      "metadata": {
        "id": "OFxosFPIXwo1"
      }
    },
    {
      "cell_type": "markdown",
      "source": [
        "### Import library\n",
        "\n"
      ],
      "metadata": {
        "id": "AYX6hHlVVrEh"
      }
    },
    {
      "cell_type": "code",
      "source": [
        "import requests\n",
        "import pandas as pd\n"
      ],
      "metadata": {
        "id": "NOdjawJXSngr"
      },
      "execution_count": 10,
      "outputs": []
    },
    {
      "cell_type": "markdown",
      "source": [
        "Mengimpor library yang sudah diinstall.\n",
        "\n",
        "* requests dipakai untuk melakukan GET ke API.\n",
        "\n",
        "* pandas dipakai untuk membuat tabel data (DataFrame) dan menyimpan CSV."
      ],
      "metadata": {
        "id": "Jg96gwb1X1Rt"
      }
    },
    {
      "cell_type": "markdown",
      "source": [
        "## Set API Key dan URL\n"
      ],
      "metadata": {
        "id": "w8JtWqXhW7mz"
      }
    },
    {
      "cell_type": "code",
      "source": [
        "# Masukkan API Key yang sudah dibuat di https://dev.springernature.com\n",
        "api_key = \"41f6b1017b46699a8e98995ada251823\"\n",
        "url = \"https://api.springernature.com/meta/v2/json\"\n"
      ],
      "metadata": {
        "id": "5FMjaGvFF-Mg"
      },
      "execution_count": 11,
      "outputs": []
    },
    {
      "cell_type": "markdown",
      "source": [
        "* api_key → kunci akses yang kamu buat di website Springer Developer.\n",
        "\n",
        "* url → endpoint Meta API dalam format JSON.\n",
        "\n",
        "* Endpoint ini hanya mengembalikan metadata (judul, DOI, abstrak, dsb.), bukan full-text artikel."
      ],
      "metadata": {
        "id": "baej4stFXh4z"
      }
    },
    {
      "cell_type": "markdown",
      "source": [
        "## Proses Crawling"
      ],
      "metadata": {
        "id": "pV8hkMYwXX6q"
      }
    },
    {
      "cell_type": "code",
      "source": [
        "def crawl_springer(query, api_key, rows=10):\n",
        "    params = {\n",
        "        \"q\": query,\n",
        "        \"api_key\": api_key,\n",
        "        \"p\": rows\n",
        "    }\n",
        "    response = requests.get(url, params=params)\n",
        "\n",
        "    if response.status_code == 200:\n",
        "        data = response.json()\n",
        "        records = []\n",
        "        for record in data.get(\"records\", []):\n",
        "            records.append({\n",
        "                \"DOI\": record.get(\"doi\", \"N/A\"),\n",
        "                \"Title\": record.get(\"title\", \"No title\"),\n",
        "                \"Abstract\": record.get(\"abstract\", \"No abstract\"),\n",
        "                \"Publication\": record.get(\"publicationName\", \"N/A\"),\n",
        "                \"URL\": record.get(\"url\", [{}])[0].get(\"value\", \"N/A\"),\n",
        "                \"Keyword\": query\n",
        "            })\n",
        "        return records\n",
        "    else:\n",
        "        print(\"Error:\", response.status_code, response.text)\n",
        "        return []\n"
      ],
      "metadata": {
        "id": "drpjU-WFF-S0"
      },
      "execution_count": 12,
      "outputs": []
    },
    {
      "cell_type": "markdown",
      "source": [
        "Fungsi `crawl_springer` menerima keyword, lalu request ke API.\n",
        "\n",
        "Parameter utama:\n",
        "\n",
        "* q: kata kunci pencarian.\n",
        "\n",
        "* p: jumlah hasil (default 10).\n",
        "\n",
        "Jika sukses (status_code == 200), hasil JSON diproses dan diubah ke list of dict. Disimpan informasi: DOI, Title, Abstract, Publication, URL, dan Keyword.\n",
        "\n",
        "Jika gagal, cetak error."
      ],
      "metadata": {
        "id": "tkXCijCXX579"
      }
    },
    {
      "cell_type": "markdown",
      "source": [
        "## Menentukan kata kunci\n",
        "\n",
        "Tentukan kata kunci yang akan dilakukan crawling ingin apa saja.\n",
        "\n",
        "Menambahkan kata kunci \"web mining\", \"web usage mining\", \"data mining\""
      ],
      "metadata": {
        "id": "Bgib-mD9YQyw"
      }
    },
    {
      "cell_type": "code",
      "source": [
        "keywords = [\"web mining\", \"web usage mining\", \"data mining\"]"
      ],
      "metadata": {
        "id": "Hp_CK_GSYnc1"
      },
      "execution_count": 8,
      "outputs": []
    },
    {
      "cell_type": "markdown",
      "source": [
        "## Crawling untuk semua keyword"
      ],
      "metadata": {
        "id": "rTuhKqFPYmhw"
      }
    },
    {
      "cell_type": "code",
      "source": [
        "all_results = []\n",
        "\n",
        "for kw in keywords:\n",
        "    print(f\"Mengambil data untuk keyword: {kw}\")\n",
        "    results = crawl_springer(kw, api_key, rows=10)\n",
        "    all_results.extend(results)\n",
        "\n",
        "print(f\"\\nTotal data terkumpul: {len(all_results)}\")\n",
        "\n",
        "df = pd.DataFrame(all_results)\n",
        "df.to_csv(\"springer_results.csv\", index=False, encoding=\"utf-8\")\n",
        "\n",
        "print(\"✅ Data berhasil disimpan ke springer_results.csv\")\n",
        "df.head()\n"
      ],
      "metadata": {
        "colab": {
          "base_uri": "https://localhost:8080/",
          "height": 682
        },
        "id": "6mCcDcd_F-Yp",
        "outputId": "db1f8f23-eb0a-4209-ba96-0f4910253d61"
      },
      "execution_count": 13,
      "outputs": [
        {
          "output_type": "stream",
          "name": "stdout",
          "text": [
            "Mengambil data untuk keyword: web mining\n",
            "Mengambil data untuk keyword: web usage mining\n",
            "Mengambil data untuk keyword: data mining\n",
            "\n",
            "Total data terkumpul: 30\n",
            "✅ Data berhasil disimpan ke springer_results.csv\n"
          ]
        },
        {
          "output_type": "execute_result",
          "data": {
            "text/plain": [
              "                            DOI  \\\n",
              "0   10.1007/978-3-032-00983-8_5   \n",
              "1   10.1007/978-3-031-93802-3_7   \n",
              "2   10.1007/978-981-96-7238-7_2   \n",
              "3  10.1007/978-3-031-95296-8_15   \n",
              "4   10.1007/978-3-031-90470-7_6   \n",
              "\n",
              "                                               Title  \\\n",
              "0  Survey on Data Mining and Machine Learning Met...   \n",
              "1  Unveiling Power Laws in Graph Mining: Techniqu...   \n",
              "2  Architecture Mining Approach for Systems-of-Sy...   \n",
              "3  A Mathematical Model and Algorithm for Data An...   \n",
              "4  ‘Internet of Things’ and ‘Social Networking’: ...   \n",
              "\n",
              "                                            Abstract  \\\n",
              "0  It is observed that the Mental illness by the ...   \n",
              "1  Power laws play a crucial role in understandin...   \n",
              "2  Context: Systems of Systems (SoS) constitute a...   \n",
              "3  Machine learning methods play an important rol...   \n",
              "4  Moving to the post-2000 period, or the post-fo...   \n",
              "\n",
              "                                         Publication  \\\n",
              "0  Renewable Energy, Green Computing, and Sustain...   \n",
              "1                                       Graph Mining   \n",
              "2  Service-Oriented Computing – ICSOC 2024 Workshops   \n",
              "3  Internet of Things, Smart Spaces, and Next Gen...   \n",
              "4  Collective Principles and the Formation of the...   \n",
              "\n",
              "                                                 URL     Keyword  \n",
              "0  http://link.springer.com/openurl/fulltext?id=d...  web mining  \n",
              "1  http://link.springer.com/openurl/fulltext?id=d...  web mining  \n",
              "2  http://link.springer.com/openurl/fulltext?id=d...  web mining  \n",
              "3  http://link.springer.com/openurl/fulltext?id=d...  web mining  \n",
              "4  http://link.springer.com/openurl/fulltext?id=d...  web mining  "
            ],
            "text/html": [
              "\n",
              "  <div id=\"df-34943d46-44cd-44bb-87e5-59896c8dc4f2\" class=\"colab-df-container\">\n",
              "    <div>\n",
              "<style scoped>\n",
              "    .dataframe tbody tr th:only-of-type {\n",
              "        vertical-align: middle;\n",
              "    }\n",
              "\n",
              "    .dataframe tbody tr th {\n",
              "        vertical-align: top;\n",
              "    }\n",
              "\n",
              "    .dataframe thead th {\n",
              "        text-align: right;\n",
              "    }\n",
              "</style>\n",
              "<table border=\"1\" class=\"dataframe\">\n",
              "  <thead>\n",
              "    <tr style=\"text-align: right;\">\n",
              "      <th></th>\n",
              "      <th>DOI</th>\n",
              "      <th>Title</th>\n",
              "      <th>Abstract</th>\n",
              "      <th>Publication</th>\n",
              "      <th>URL</th>\n",
              "      <th>Keyword</th>\n",
              "    </tr>\n",
              "  </thead>\n",
              "  <tbody>\n",
              "    <tr>\n",
              "      <th>0</th>\n",
              "      <td>10.1007/978-3-032-00983-8_5</td>\n",
              "      <td>Survey on Data Mining and Machine Learning Met...</td>\n",
              "      <td>It is observed that the Mental illness by the ...</td>\n",
              "      <td>Renewable Energy, Green Computing, and Sustain...</td>\n",
              "      <td>http://link.springer.com/openurl/fulltext?id=d...</td>\n",
              "      <td>web mining</td>\n",
              "    </tr>\n",
              "    <tr>\n",
              "      <th>1</th>\n",
              "      <td>10.1007/978-3-031-93802-3_7</td>\n",
              "      <td>Unveiling Power Laws in Graph Mining: Techniqu...</td>\n",
              "      <td>Power laws play a crucial role in understandin...</td>\n",
              "      <td>Graph Mining</td>\n",
              "      <td>http://link.springer.com/openurl/fulltext?id=d...</td>\n",
              "      <td>web mining</td>\n",
              "    </tr>\n",
              "    <tr>\n",
              "      <th>2</th>\n",
              "      <td>10.1007/978-981-96-7238-7_2</td>\n",
              "      <td>Architecture Mining Approach for Systems-of-Sy...</td>\n",
              "      <td>Context: Systems of Systems (SoS) constitute a...</td>\n",
              "      <td>Service-Oriented Computing – ICSOC 2024 Workshops</td>\n",
              "      <td>http://link.springer.com/openurl/fulltext?id=d...</td>\n",
              "      <td>web mining</td>\n",
              "    </tr>\n",
              "    <tr>\n",
              "      <th>3</th>\n",
              "      <td>10.1007/978-3-031-95296-8_15</td>\n",
              "      <td>A Mathematical Model and Algorithm for Data An...</td>\n",
              "      <td>Machine learning methods play an important rol...</td>\n",
              "      <td>Internet of Things, Smart Spaces, and Next Gen...</td>\n",
              "      <td>http://link.springer.com/openurl/fulltext?id=d...</td>\n",
              "      <td>web mining</td>\n",
              "    </tr>\n",
              "    <tr>\n",
              "      <th>4</th>\n",
              "      <td>10.1007/978-3-031-90470-7_6</td>\n",
              "      <td>‘Internet of Things’ and ‘Social Networking’: ...</td>\n",
              "      <td>Moving to the post-2000 period, or the post-fo...</td>\n",
              "      <td>Collective Principles and the Formation of the...</td>\n",
              "      <td>http://link.springer.com/openurl/fulltext?id=d...</td>\n",
              "      <td>web mining</td>\n",
              "    </tr>\n",
              "  </tbody>\n",
              "</table>\n",
              "</div>\n",
              "    <div class=\"colab-df-buttons\">\n",
              "\n",
              "  <div class=\"colab-df-container\">\n",
              "    <button class=\"colab-df-convert\" onclick=\"convertToInteractive('df-34943d46-44cd-44bb-87e5-59896c8dc4f2')\"\n",
              "            title=\"Convert this dataframe to an interactive table.\"\n",
              "            style=\"display:none;\">\n",
              "\n",
              "  <svg xmlns=\"http://www.w3.org/2000/svg\" height=\"24px\" viewBox=\"0 -960 960 960\">\n",
              "    <path d=\"M120-120v-720h720v720H120Zm60-500h600v-160H180v160Zm220 220h160v-160H400v160Zm0 220h160v-160H400v160ZM180-400h160v-160H180v160Zm440 0h160v-160H620v160ZM180-180h160v-160H180v160Zm440 0h160v-160H620v160Z\"/>\n",
              "  </svg>\n",
              "    </button>\n",
              "\n",
              "  <style>\n",
              "    .colab-df-container {\n",
              "      display:flex;\n",
              "      gap: 12px;\n",
              "    }\n",
              "\n",
              "    .colab-df-convert {\n",
              "      background-color: #E8F0FE;\n",
              "      border: none;\n",
              "      border-radius: 50%;\n",
              "      cursor: pointer;\n",
              "      display: none;\n",
              "      fill: #1967D2;\n",
              "      height: 32px;\n",
              "      padding: 0 0 0 0;\n",
              "      width: 32px;\n",
              "    }\n",
              "\n",
              "    .colab-df-convert:hover {\n",
              "      background-color: #E2EBFA;\n",
              "      box-shadow: 0px 1px 2px rgba(60, 64, 67, 0.3), 0px 1px 3px 1px rgba(60, 64, 67, 0.15);\n",
              "      fill: #174EA6;\n",
              "    }\n",
              "\n",
              "    .colab-df-buttons div {\n",
              "      margin-bottom: 4px;\n",
              "    }\n",
              "\n",
              "    [theme=dark] .colab-df-convert {\n",
              "      background-color: #3B4455;\n",
              "      fill: #D2E3FC;\n",
              "    }\n",
              "\n",
              "    [theme=dark] .colab-df-convert:hover {\n",
              "      background-color: #434B5C;\n",
              "      box-shadow: 0px 1px 3px 1px rgba(0, 0, 0, 0.15);\n",
              "      filter: drop-shadow(0px 1px 2px rgba(0, 0, 0, 0.3));\n",
              "      fill: #FFFFFF;\n",
              "    }\n",
              "  </style>\n",
              "\n",
              "    <script>\n",
              "      const buttonEl =\n",
              "        document.querySelector('#df-34943d46-44cd-44bb-87e5-59896c8dc4f2 button.colab-df-convert');\n",
              "      buttonEl.style.display =\n",
              "        google.colab.kernel.accessAllowed ? 'block' : 'none';\n",
              "\n",
              "      async function convertToInteractive(key) {\n",
              "        const element = document.querySelector('#df-34943d46-44cd-44bb-87e5-59896c8dc4f2');\n",
              "        const dataTable =\n",
              "          await google.colab.kernel.invokeFunction('convertToInteractive',\n",
              "                                                    [key], {});\n",
              "        if (!dataTable) return;\n",
              "\n",
              "        const docLinkHtml = 'Like what you see? Visit the ' +\n",
              "          '<a target=\"_blank\" href=https://colab.research.google.com/notebooks/data_table.ipynb>data table notebook</a>'\n",
              "          + ' to learn more about interactive tables.';\n",
              "        element.innerHTML = '';\n",
              "        dataTable['output_type'] = 'display_data';\n",
              "        await google.colab.output.renderOutput(dataTable, element);\n",
              "        const docLink = document.createElement('div');\n",
              "        docLink.innerHTML = docLinkHtml;\n",
              "        element.appendChild(docLink);\n",
              "      }\n",
              "    </script>\n",
              "  </div>\n",
              "\n",
              "\n",
              "    <div id=\"df-e3c96f9f-1e2e-43d0-b1fe-1290d823ab10\">\n",
              "      <button class=\"colab-df-quickchart\" onclick=\"quickchart('df-e3c96f9f-1e2e-43d0-b1fe-1290d823ab10')\"\n",
              "                title=\"Suggest charts\"\n",
              "                style=\"display:none;\">\n",
              "\n",
              "<svg xmlns=\"http://www.w3.org/2000/svg\" height=\"24px\"viewBox=\"0 0 24 24\"\n",
              "     width=\"24px\">\n",
              "    <g>\n",
              "        <path d=\"M19 3H5c-1.1 0-2 .9-2 2v14c0 1.1.9 2 2 2h14c1.1 0 2-.9 2-2V5c0-1.1-.9-2-2-2zM9 17H7v-7h2v7zm4 0h-2V7h2v10zm4 0h-2v-4h2v4z\"/>\n",
              "    </g>\n",
              "</svg>\n",
              "      </button>\n",
              "\n",
              "<style>\n",
              "  .colab-df-quickchart {\n",
              "      --bg-color: #E8F0FE;\n",
              "      --fill-color: #1967D2;\n",
              "      --hover-bg-color: #E2EBFA;\n",
              "      --hover-fill-color: #174EA6;\n",
              "      --disabled-fill-color: #AAA;\n",
              "      --disabled-bg-color: #DDD;\n",
              "  }\n",
              "\n",
              "  [theme=dark] .colab-df-quickchart {\n",
              "      --bg-color: #3B4455;\n",
              "      --fill-color: #D2E3FC;\n",
              "      --hover-bg-color: #434B5C;\n",
              "      --hover-fill-color: #FFFFFF;\n",
              "      --disabled-bg-color: #3B4455;\n",
              "      --disabled-fill-color: #666;\n",
              "  }\n",
              "\n",
              "  .colab-df-quickchart {\n",
              "    background-color: var(--bg-color);\n",
              "    border: none;\n",
              "    border-radius: 50%;\n",
              "    cursor: pointer;\n",
              "    display: none;\n",
              "    fill: var(--fill-color);\n",
              "    height: 32px;\n",
              "    padding: 0;\n",
              "    width: 32px;\n",
              "  }\n",
              "\n",
              "  .colab-df-quickchart:hover {\n",
              "    background-color: var(--hover-bg-color);\n",
              "    box-shadow: 0 1px 2px rgba(60, 64, 67, 0.3), 0 1px 3px 1px rgba(60, 64, 67, 0.15);\n",
              "    fill: var(--button-hover-fill-color);\n",
              "  }\n",
              "\n",
              "  .colab-df-quickchart-complete:disabled,\n",
              "  .colab-df-quickchart-complete:disabled:hover {\n",
              "    background-color: var(--disabled-bg-color);\n",
              "    fill: var(--disabled-fill-color);\n",
              "    box-shadow: none;\n",
              "  }\n",
              "\n",
              "  .colab-df-spinner {\n",
              "    border: 2px solid var(--fill-color);\n",
              "    border-color: transparent;\n",
              "    border-bottom-color: var(--fill-color);\n",
              "    animation:\n",
              "      spin 1s steps(1) infinite;\n",
              "  }\n",
              "\n",
              "  @keyframes spin {\n",
              "    0% {\n",
              "      border-color: transparent;\n",
              "      border-bottom-color: var(--fill-color);\n",
              "      border-left-color: var(--fill-color);\n",
              "    }\n",
              "    20% {\n",
              "      border-color: transparent;\n",
              "      border-left-color: var(--fill-color);\n",
              "      border-top-color: var(--fill-color);\n",
              "    }\n",
              "    30% {\n",
              "      border-color: transparent;\n",
              "      border-left-color: var(--fill-color);\n",
              "      border-top-color: var(--fill-color);\n",
              "      border-right-color: var(--fill-color);\n",
              "    }\n",
              "    40% {\n",
              "      border-color: transparent;\n",
              "      border-right-color: var(--fill-color);\n",
              "      border-top-color: var(--fill-color);\n",
              "    }\n",
              "    60% {\n",
              "      border-color: transparent;\n",
              "      border-right-color: var(--fill-color);\n",
              "    }\n",
              "    80% {\n",
              "      border-color: transparent;\n",
              "      border-right-color: var(--fill-color);\n",
              "      border-bottom-color: var(--fill-color);\n",
              "    }\n",
              "    90% {\n",
              "      border-color: transparent;\n",
              "      border-bottom-color: var(--fill-color);\n",
              "    }\n",
              "  }\n",
              "</style>\n",
              "\n",
              "      <script>\n",
              "        async function quickchart(key) {\n",
              "          const quickchartButtonEl =\n",
              "            document.querySelector('#' + key + ' button');\n",
              "          quickchartButtonEl.disabled = true;  // To prevent multiple clicks.\n",
              "          quickchartButtonEl.classList.add('colab-df-spinner');\n",
              "          try {\n",
              "            const charts = await google.colab.kernel.invokeFunction(\n",
              "                'suggestCharts', [key], {});\n",
              "          } catch (error) {\n",
              "            console.error('Error during call to suggestCharts:', error);\n",
              "          }\n",
              "          quickchartButtonEl.classList.remove('colab-df-spinner');\n",
              "          quickchartButtonEl.classList.add('colab-df-quickchart-complete');\n",
              "        }\n",
              "        (() => {\n",
              "          let quickchartButtonEl =\n",
              "            document.querySelector('#df-e3c96f9f-1e2e-43d0-b1fe-1290d823ab10 button');\n",
              "          quickchartButtonEl.style.display =\n",
              "            google.colab.kernel.accessAllowed ? 'block' : 'none';\n",
              "        })();\n",
              "      </script>\n",
              "    </div>\n",
              "\n",
              "    </div>\n",
              "  </div>\n"
            ],
            "application/vnd.google.colaboratory.intrinsic+json": {
              "type": "dataframe",
              "variable_name": "df",
              "summary": "{\n  \"name\": \"df\",\n  \"rows\": 30,\n  \"fields\": [\n    {\n      \"column\": \"DOI\",\n      \"properties\": {\n        \"dtype\": \"string\",\n        \"num_unique_values\": 24,\n        \"samples\": [\n          \"10.1007/978-3-031-95296-8_21\",\n          \"10.1007/978-3-032-02929-4_23\",\n          \"10.1007/978-3-032-00983-8_5\"\n        ],\n        \"semantic_type\": \"\",\n        \"description\": \"\"\n      }\n    },\n    {\n      \"column\": \"Title\",\n      \"properties\": {\n        \"dtype\": \"string\",\n        \"num_unique_values\": 24,\n        \"samples\": [\n          \"Intelligent Control System for Ore Transportation and Grinding Process in Gold Mining Fields\",\n          \"FairPM: A Taxonomy of\\u00a0Bias and\\u00a0Interventions in\\u00a0Process Mining\",\n          \"Survey on Data Mining and Machine Learning Methods Used in Analyzing Tweets\"\n        ],\n        \"semantic_type\": \"\",\n        \"description\": \"\"\n      }\n    },\n    {\n      \"column\": \"Abstract\",\n      \"properties\": {\n        \"dtype\": \"string\",\n        \"num_unique_values\": 24,\n        \"samples\": [\n          \"This paper is devoted to optimizing the processes of work using intellectual control systems for the transportation and grinding of ore in gold mining fields. Ore is being optimized through the introduction of modern technologies and information systems in the transportation and grinding processes in order to increase efficiency, reduce energy consumption and reduce production costs. The paper examines the applications of IoT technologies, artificial intelligence, and large-scale data analysis in ore transport and grinding processes. With these systems, there is talk of monitoring processes in real time and improving the efficiency of equipment operation. New methods for managing ore transport and grinding processes through mathematical models, optimization algorithms and artificial neural networks are also presented. The results of scientific research in this paper can contribute to innovations and technological developments in the field of gold mining. Improving efficiency through automation of gold mining processes and intellectual management systems not only contributes to economic benefits, but also to the protection of the environment.\",\n          \"As organizations increasingly rely on data-driven methods to support decision-making, ensuring fairness in their processes becomes critical. Fairness in responsible process mining involves preventing unfair outcomes and recognizing potential biases that may arise in the different stages of process mining initiative. Acting fairly entails treating individuals equitably, irrespective of inherent or acquired characteristics such as gender, race, or disability, while ensuring compliance with legal and organizational fairness standards. While fairness in process mining has been explored in prior research, there remains a lack of conceptualization to identify, understand, and address fairness issues. To bridge this gap, we propose FairPM , a taxonomy that conceptualizes biases in process mining and the corresponding interventions to mitigate them. Our approach builds on theory adaptation as research method. It integrates an adaptation of biases and interventions from prior machine learning research into process mining. We illustrate the applicability of FairPM through three scenarios, demonstrating its relevance for both academia and industry. This research contributes to the growing field of fair process mining by providing a structured conceptualization that enables researchers and practitioners to diagnose biases and implement fairness interventions, ensuring equitable and unbiased process mining outcomes.\",\n          \"It is observed that the Mental illness by the actions and individual emotions and expressions towards a particular situation. It indicates that American Psychiatric Association that has 19% of people experience mental illness. Nearly 4.1% of people [ 1 ] are seriously affected by mental illness. In 2019, World Health Organization(WHO) reported that 264 million people suffer from mental disorders. With the technological growth and affordable internet access, social media usage and impacts are increased in society. Users use social networks to show their emotions, views, and comments related to mental health on various events and themselves. Different intelligent methods that analyze tweets related to depression are summarized. New research areas in analyzing data on social networks are discussed. This article highlights the data mining and machine learning methods associated with mental health using Twitter data.\"\n        ],\n        \"semantic_type\": \"\",\n        \"description\": \"\"\n      }\n    },\n    {\n      \"column\": \"Publication\",\n      \"properties\": {\n        \"dtype\": \"string\",\n        \"num_unique_values\": 18,\n        \"samples\": [\n          \"Renewable Energy, Green Computing, and Sustainable Development\",\n          \"Graph Mining\",\n          \"Web and Wireless Geographical Information Systems\"\n        ],\n        \"semantic_type\": \"\",\n        \"description\": \"\"\n      }\n    },\n    {\n      \"column\": \"URL\",\n      \"properties\": {\n        \"dtype\": \"string\",\n        \"num_unique_values\": 24,\n        \"samples\": [\n          \"http://link.springer.com/openurl/fulltext?id=doi:10.1007/978-3-031-95296-8_21\",\n          \"http://link.springer.com/openurl/fulltext?id=doi:10.1007/978-3-032-02929-4_23\",\n          \"http://link.springer.com/openurl/fulltext?id=doi:10.1007/978-3-032-00983-8_5\"\n        ],\n        \"semantic_type\": \"\",\n        \"description\": \"\"\n      }\n    },\n    {\n      \"column\": \"Keyword\",\n      \"properties\": {\n        \"dtype\": \"category\",\n        \"num_unique_values\": 3,\n        \"samples\": [\n          \"web mining\",\n          \"web usage mining\",\n          \"data mining\"\n        ],\n        \"semantic_type\": \"\",\n        \"description\": \"\"\n      }\n    }\n  ]\n}"
            }
          },
          "metadata": {},
          "execution_count": 13
        }
      ]
    },
    {
      "cell_type": "markdown",
      "source": [
        "all_results menampung semua hasil dari berbagai keyword.\n",
        "\n",
        "Looping for kw in keywords: akan memanggil fungsi crawl_springer untuk setiap keyword.\n",
        "\n",
        "extend() → menambahkan hasil ke list utama.\n",
        "\n",
        "Print jumlah total artikel yang berhasil dikumpulkan.\n",
        "\n",
        "\n",
        "**Hasil crawling didapatkan 30 dari keyword tersebut**"
      ],
      "metadata": {
        "id": "_4u_XgaaZcM7"
      }
    },
    {
      "cell_type": "markdown",
      "source": [
        "### Download CSV di Google Colab"
      ],
      "metadata": {
        "id": "2xQMCoXvZg-0"
      }
    },
    {
      "cell_type": "code",
      "source": [
        "from google.colab import files\n",
        "files.download(\"springer_results.csv\")\n"
      ],
      "metadata": {
        "colab": {
          "base_uri": "https://localhost:8080/",
          "height": 17
        },
        "id": "x2krJwGRSwvQ",
        "outputId": "670da432-0e2a-4d0b-a890-42bed7be8bd0"
      },
      "execution_count": 14,
      "outputs": [
        {
          "output_type": "display_data",
          "data": {
            "text/plain": [
              "<IPython.core.display.Javascript object>"
            ],
            "application/javascript": [
              "\n",
              "    async function download(id, filename, size) {\n",
              "      if (!google.colab.kernel.accessAllowed) {\n",
              "        return;\n",
              "      }\n",
              "      const div = document.createElement('div');\n",
              "      const label = document.createElement('label');\n",
              "      label.textContent = `Downloading \"${filename}\": `;\n",
              "      div.appendChild(label);\n",
              "      const progress = document.createElement('progress');\n",
              "      progress.max = size;\n",
              "      div.appendChild(progress);\n",
              "      document.body.appendChild(div);\n",
              "\n",
              "      const buffers = [];\n",
              "      let downloaded = 0;\n",
              "\n",
              "      const channel = await google.colab.kernel.comms.open(id);\n",
              "      // Send a message to notify the kernel that we're ready.\n",
              "      channel.send({})\n",
              "\n",
              "      for await (const message of channel.messages) {\n",
              "        // Send a message to notify the kernel that we're ready.\n",
              "        channel.send({})\n",
              "        if (message.buffers) {\n",
              "          for (const buffer of message.buffers) {\n",
              "            buffers.push(buffer);\n",
              "            downloaded += buffer.byteLength;\n",
              "            progress.value = downloaded;\n",
              "          }\n",
              "        }\n",
              "      }\n",
              "      const blob = new Blob(buffers, {type: 'application/binary'});\n",
              "      const a = document.createElement('a');\n",
              "      a.href = window.URL.createObjectURL(blob);\n",
              "      a.download = filename;\n",
              "      div.appendChild(a);\n",
              "      a.click();\n",
              "      div.remove();\n",
              "    }\n",
              "  "
            ]
          },
          "metadata": {}
        },
        {
          "output_type": "display_data",
          "data": {
            "text/plain": [
              "<IPython.core.display.Javascript object>"
            ],
            "application/javascript": [
              "download(\"download_bfe83248-1701-4036-a309-d54100ebc220\", \"springer_results.csv\", 43496)"
            ]
          },
          "metadata": {}
        }
      ]
    },
    {
      "cell_type": "markdown",
      "source": [
        "## Keismpulan\n",
        "\n",
        "Crawling = teknik mengumpulkan data dari web secara otomatis.\n",
        "\n",
        "Digunakan untuk:\n",
        "\n",
        "* Search engine (Google, Bing, Yahoo).\n",
        "\n",
        "* Analisis data (data mining, web mining).\n",
        "\n",
        "* Penelitian (scraping data jurnal, berita, media sosial)."
      ],
      "metadata": {
        "id": "9kUAGoYVaOSx"
      }
    }
  ]
}